{
 "cells": [
  {
   "cell_type": "code",
   "execution_count": 24,
   "id": "807cc0eb",
   "metadata": {},
   "outputs": [
    {
     "name": "stdout",
     "output_type": "stream",
     "text": [
      "successful\n"
     ]
    }
   ],
   "source": [
    "import numpy as np\n",
    "import pandas as pd\n",
    "import plotly.graph_objects as go\n",
    "import plotly.express as px\n",
    "import requests\n",
    "print(\"successful\")"
   ]
  },
  {
   "cell_type": "code",
   "execution_count": 36,
   "id": "9f46f91b",
   "metadata": {},
   "outputs": [
    {
     "name": "stdout",
     "output_type": "stream",
     "text": [
      "Data cached.\n"
     ]
    }
   ],
   "source": [
    "results_df = pd.read_csv('results.csv',low_memory=False)\n",
    "picks_df = pd.read_csv('picks.csv',low_memory=False)\n",
    "economy_df = pd.read_csv('economy.csv',low_memory=False)\n",
    "players_df = pd.read_csv('players.csv',low_memory=False)\n",
    "\n",
    "print(\"Data cached.\")"
   ]
  },
  {
   "cell_type": "code",
   "execution_count": null,
   "id": "1dcf70e1",
   "metadata": {},
   "outputs": [],
   "source": []
  }
 ],
 "metadata": {
  "kernelspec": {
   "display_name": "Python 3 (ipykernel)",
   "language": "python",
   "name": "python3"
  },
  "language_info": {
   "codemirror_mode": {
    "name": "ipython",
    "version": 3
   },
   "file_extension": ".py",
   "mimetype": "text/x-python",
   "name": "python",
   "nbconvert_exporter": "python",
   "pygments_lexer": "ipython3",
   "version": "3.10.9"
  }
 },
 "nbformat": 4,
 "nbformat_minor": 5
}
